{
  "cells": [
    {
      "cell_type": "markdown",
      "metadata": {
        "id": "view-in-github",
        "colab_type": "text"
      },
      "source": [
        "<a href=\"https://colab.research.google.com/github/carlosnylander/TrabalhoML/blob/main/comparandoRNs.ipynb\" target=\"_parent\"><img src=\"https://colab.research.google.com/assets/colab-badge.svg\" alt=\"Open In Colab\"/></a>"
      ]
    },
    {
      "cell_type": "code",
      "execution_count": null,
      "metadata": {
        "id": "kBneVnE-nrWX"
      },
      "outputs": [],
      "source": [
        "# Bibliotecas\n",
        "import pandas as pd\n",
        "import numpy as np\n",
        "import tensorflow as tf\n",
        "from tensorflow.keras.models import Sequential\n",
        "from tensorflow.keras.layers import Dense, Dropout, Conv1D, Flatten, LSTM, GRU, SimpleRNN\n",
        "from sklearn.model_selection import train_test_split\n",
        "from sklearn.metrics import mean_absolute_error, mean_squared_error\n",
        "import matplotlib.pyplot as plt\n",
        "\n",
        "\n"
      ]
    },
    {
      "cell_type": "code",
      "execution_count": null,
      "metadata": {
        "id": "RmokIbzUn9WB"
      },
      "outputs": [],
      "source": [
        "# Carregar dataset\n",
        "data = pd.read_csv('/content/oficialtcld0903.csv')  # Atualize o caminho se necessário\n",
        "X = data.drop(columns=['bal75'])\n",
        "y = data['bal75']\n",
        "\n",
        "# Dividir os dados\n",
        "X_train, X_test, y_train, y_test = train_test_split(X, y, test_size=0.3)\n",
        "\n"
      ]
    },
    {
      "cell_type": "code",
      "execution_count": null,
      "metadata": {
        "colab": {
          "background_save": true,
          "base_uri": "https://localhost:8080/"
        },
        "id": "fRc1_zAcoExz",
        "outputId": "7f97f727-f19a-4862-b7c6-f293799081a0"
      },
      "outputs": [
        {
          "name": "stderr",
          "output_type": "stream",
          "text": [
            "/usr/local/lib/python3.11/dist-packages/keras/src/layers/core/dense.py:87: UserWarning: Do not pass an `input_shape`/`input_dim` argument to a layer. When using Sequential models, prefer using an `Input(shape)` object as the first layer in the model instead.\n",
            "  super().__init__(activity_regularizer=activity_regularizer, **kwargs)\n",
            "/usr/local/lib/python3.11/dist-packages/keras/src/layers/convolutional/base_conv.py:107: UserWarning: Do not pass an `input_shape`/`input_dim` argument to a layer. When using Sequential models, prefer using an `Input(shape)` object as the first layer in the model instead.\n",
            "  super().__init__(activity_regularizer=activity_regularizer, **kwargs)\n",
            "/usr/local/lib/python3.11/dist-packages/keras/src/layers/rnn/rnn.py:200: UserWarning: Do not pass an `input_shape`/`input_dim` argument to a layer. When using Sequential models, prefer using an `Input(shape)` object as the first layer in the model instead.\n",
            "  super().__init__(**kwargs)\n"
          ]
        },
        {
          "name": "stdout",
          "output_type": "stream",
          "text": [
            "\u001b[1m731/731\u001b[0m \u001b[32m━━━━━━━━━━━━━━━━━━━━\u001b[0m\u001b[37m\u001b[0m \u001b[1m1s\u001b[0m 1ms/step\n",
            "MLP Model - MAE: 56.638573955670225, MSE: 5808.140573012771, RMSE: 76.21115779866338\n",
            "\u001b[1m731/731\u001b[0m \u001b[32m━━━━━━━━━━━━━━━━━━━━\u001b[0m\u001b[37m\u001b[0m \u001b[1m1s\u001b[0m 2ms/step\n",
            "CNN Model - MAE: 53.130113651968514, MSE: 5051.49061878729, RMSE: 71.07383920112441\n",
            "\u001b[1m731/731\u001b[0m \u001b[32m━━━━━━━━━━━━━━━━━━━━\u001b[0m\u001b[37m\u001b[0m \u001b[1m2s\u001b[0m 2ms/step\n",
            "LSTM Model - MAE: 49.886659201833666, MSE: 4612.079273211537, RMSE: 67.91229103197401\n",
            "\u001b[1m731/731\u001b[0m \u001b[32m━━━━━━━━━━━━━━━━━━━━\u001b[0m\u001b[37m\u001b[0m \u001b[1m2s\u001b[0m 2ms/step\n",
            "GRU Model - MAE: 50.94063187768094, MSE: 4777.696194307431, RMSE: 69.12088102959504\n",
            "\u001b[1m731/731\u001b[0m \u001b[32m━━━━━━━━━━━━━━━━━━━━\u001b[0m\u001b[37m\u001b[0m \u001b[1m1s\u001b[0m 2ms/step\n",
            "RNN Model - MAE: 50.751769930925676, MSE: 4754.793998515502, RMSE: 68.95501431016821\n"
          ]
        }
      ],
      "source": [
        "# Modelos\n",
        "def create_mlp_model(input_dim):\n",
        "    model = Sequential([\n",
        "        Dense(10, input_dim=input_dim, activation='relu'),\n",
        "        Dense(5, activation='relu'),\n",
        "        Dense(1, activation='linear')\n",
        "    ])\n",
        "    model.compile(optimizer='adam', loss='mean_squared_error')\n",
        "    return model\n",
        "\n",
        "def create_cnn_model(input_dim):\n",
        "    model = Sequential([\n",
        "        Conv1D(10, 2, activation='relu', input_shape=(input_dim, 1)),\n",
        "        Flatten(),\n",
        "        Dense(10, activation='relu'),\n",
        "        Dense(1, activation='linear')\n",
        "    ])\n",
        "    model.compile(optimizer='adam', loss='mean_squared_error')\n",
        "    return model\n",
        "\n",
        "def create_lstm_model(input_dim):\n",
        "    model = Sequential([\n",
        "        LSTM(10, input_shape=(input_dim, 1), activation='tanh'),\n",
        "        Dense(10, activation='relu'),\n",
        "        Dense(1, activation='linear')\n",
        "    ])\n",
        "    model.compile(optimizer='adam', loss='mean_squared_error')\n",
        "    return model\n",
        "\n",
        "def create_gru_model(input_dim):\n",
        "    model = Sequential([\n",
        "        GRU(10, input_shape=(input_dim, 1), activation='tanh'),\n",
        "        Dense(10, activation='relu'),\n",
        "        Dense(1, activation='linear')\n",
        "    ])\n",
        "    model.compile(optimizer='adam', loss='mean_squared_error')\n",
        "    return model\n",
        "\n",
        "def create_rnn_model(input_dim):\n",
        "    model = Sequential([\n",
        "        SimpleRNN(10, input_shape=(input_dim, 1), activation='tanh'),\n",
        "        Dense(10, activation='relu'),\n",
        "        Dense(1, activation='linear')\n",
        "    ])\n",
        "    model.compile(optimizer='adam', loss='mean_squared_error')\n",
        "    return model\n",
        "\n",
        "# Treinamento e avaliação\n",
        "def train_and_evaluate_model(model_name, model):\n",
        "    if model_name in ['CNN', 'LSTM', 'GRU', 'RNN']:\n",
        "        X_train_r = np.expand_dims(X_train.values, axis=2)\n",
        "        X_test_r = np.expand_dims(X_test.values, axis=2)\n",
        "        history = model.fit(X_train_r, y_train, epochs=50, batch_size=32, verbose=0, validation_split=0.2)\n",
        "        y_pred = model.predict(X_test_r).flatten()\n",
        "    else:\n",
        "        history = model.fit(X_train, y_train, epochs=50, batch_size=32, verbose=0, validation_split=0.2)\n",
        "        y_pred = model.predict(X_test).flatten()\n",
        "\n",
        "    mae = mean_absolute_error(y_test, y_pred)\n",
        "    mse = mean_squared_error(y_test, y_pred)\n",
        "    rmse = np.sqrt(mse)\n",
        "    print(f\"{model_name} Model - MAE: {mae}, MSE: {mse}, RMSE: {rmse}\")\n",
        "    return y_pred, rmse\n",
        "\n",
        "# Treinar modelos\n",
        "mlp_model = create_mlp_model(X_train.shape[1])\n",
        "cnn_model = create_cnn_model(X_train.shape[1])\n",
        "lstm_model = create_lstm_model(X_train.shape[1])\n",
        "gru_model = create_gru_model(X_train.shape[1])\n",
        "rnn_model = create_rnn_model(X_train.shape[1])\n",
        "\n",
        "y_pred_mlp, rmse_mlp = train_and_evaluate_model(\"MLP\", mlp_model)\n",
        "y_pred_cnn, rmse_cnn = train_and_evaluate_model(\"CNN\", cnn_model)\n",
        "y_pred_lstm, rmse_lstm = train_and_evaluate_model(\"LSTM\", lstm_model)\n",
        "y_pred_gru, rmse_gru = train_and_evaluate_model(\"GRU\", gru_model)\n",
        "y_pred_rnn, rmse_rnn = train_and_evaluate_model(\"RNN\", rnn_model)\n",
        "\n"
      ]
    },
    {
      "cell_type": "code",
      "execution_count": null,
      "metadata": {
        "id": "s-_o3DW6oKUT"
      },
      "outputs": [],
      "source": [
        "# -------------------------------------------------------------------------\n",
        "# Análise de incerteza (com faixa mais escura, suavizada e robusta)\n",
        "# -------------------------------------------------------------------------\n",
        "\n",
        "# Dicionário de resultados\n",
        "results = {\n",
        "    \"MLP\": y_pred_mlp,\n",
        "    \"CNN\": y_pred_cnn,\n",
        "    \"LSTM\": y_pred_lstm,\n",
        "    \"GRU\": y_pred_gru,\n",
        "    \"RNN\": y_pred_rnn\n",
        "}\n",
        "\n",
        "# Suavização da faixa\n",
        "def smooth_series(series, window_size=15):\n",
        "    return pd.Series(series).rolling(window=window_size, min_periods=1, center=True).mean().values\n",
        "\n",
        "# Avaliar Intervalos de Confiança Ajustados\n",
        "def evaluate_confidence_intervals(results, y_test, scale_factor=1.0, fill_color='darkblue', alpha=0.8, smoothing=True):\n",
        "    for model_name, predictions in results.items():\n",
        "        print(f\"\\n🔎 Avaliando {model_name} com Intervalo de Confiança Ajustado...\")\n",
        "\n",
        "        std_dev = np.std(predictions)\n",
        "        lower_bound = predictions - scale_factor * std_dev\n",
        "        upper_bound = predictions + scale_factor * std_dev\n",
        "\n",
        "        if smoothing:\n",
        "            lower_bound = smooth_series(lower_bound)\n",
        "            upper_bound = smooth_series(upper_bound)\n",
        "\n",
        "        plt.figure(figsize=(10, 6))\n",
        "        plt.plot(y_test.values[:500], 'b-', label='Real')\n",
        "        plt.plot(predictions[:500], 'r-', label=f'{model_name} - Predito')\n",
        "        plt.fill_between(\n",
        "            range(500),\n",
        "            lower_bound[:500],\n",
        "            upper_bound[:500],\n",
        "            color=fill_color,\n",
        "            alpha=alpha,\n",
        "            label=f'Intervalo (±{scale_factor*100:.0f}%)'\n",
        "        )\n",
        "        plt.title(f'{model_name}: Faixa de Incerteza Suavizada e Robusta')\n",
        "        plt.xlabel('Índice')\n",
        "        plt.ylabel('Valor')\n",
        "        plt.legend()\n",
        "        plt.grid(True)\n",
        "        plt.tight_layout()\n",
        "        plt.show()\n",
        "\n",
        "# Executar análise de incerteza\n",
        "evaluate_confidence_intervals(\n",
        "    results,\n",
        "    y_test,\n",
        "    scale_factor=1.0,      # Aumente/diminua para ajustar amplitude da faixa\n",
        "    fill_color='darkblue', # Cor escura para visualização mais clara\n",
        "    alpha=0.8,\n",
        "    smoothing=True\n",
        ")"
      ]
    },
    {
      "cell_type": "code",
      "execution_count": null,
      "metadata": {
        "id": "lHuTRqVQpADq"
      },
      "outputs": [],
      "source": [
        "# Substitua pelas suas informações\n",
        "username = \"SEU_USUARIO\"\n",
        "repo_name = \"NOME_DO_REPOSITORIO\"\n",
        "token = \"SEU_TOKEN_GERADO\"\n",
        "email = \"seuemail@exemplo.com\"\n",
        "nome = \"Seu Nome\"\n"
      ]
    },
    {
      "cell_type": "code",
      "execution_count": null,
      "metadata": {
        "id": "s3Zeog3ipQyh"
      },
      "outputs": [],
      "source": [
        "# Configurar identidade do git\n",
        "!git config --global user.email \"{email}\"\n",
        "!git config --global user.name \"{nome}\"\n",
        "\n",
        "# Clonar o repositório com autenticação via token\n",
        "!git clone https://{token}@github.com/{username}/{repo_name}.git\n"
      ]
    },
    {
      "cell_type": "code",
      "execution_count": null,
      "metadata": {
        "id": "-axx6ZiKpTix"
      },
      "outputs": [],
      "source": [
        "# Seu código de análise — substitua pelo código atualizado\n",
        "codigo = \"\"\"\n",
        "import numpy as np\n",
        "import matplotlib.pyplot as plt\n",
        "\n",
        "# Função para plotar incerteza de modelos treinados\n",
        "def plotar_incerteza(y_real, y_pred, model_name, percentual=0.05):\n",
        "    y_real = y_real[:500]\n",
        "    y_pred = y_pred[:500]\n",
        "\n",
        "    delta = y_pred * percentual  # ±5%\n",
        "    inferior = y_pred - delta\n",
        "    superior = y_pred + delta\n",
        "\n",
        "    plt.figure(figsize=(10, 6))\n",
        "    plt.plot(y_real, 'b-', label='Real')\n",
        "    plt.plot(y_pred, 'r-', label='Predito')\n",
        "    plt.fill_between(range(len(y_pred)), inferior, superior,\n",
        "                     color='gray', alpha=0.4, label=f'Incerteza ({int(percentual*100)}%)')\n",
        "    plt.title(f'{model_name}: Real vs Predito com Incerteza')\n",
        "    plt.xlabel('Index')\n",
        "    plt.ylabel('Value')\n",
        "    plt.legend()\n",
        "    plt.grid(True)\n",
        "    plt.tight_layout()\n",
        "    plt.show()\n",
        "\n",
        "# Exemplo de uso com variáveis já existentes (coloque no seu notebook depois de treinar os modelos)\n",
        "# plotar_incerteza(y_test.values, y_pred_mlp, 'MLP', percentual=0.05)\n",
        "# plotar_incerteza(y_test.values, y_pred_lstm, 'LSTM', percentual=0.05)\n",
        "\"\"\"\n",
        "\n",
        "# Salvando dentro do repositório clonado\n",
        "with open(f\"/content/{repo_name}/analise_incerteza_modelos.py\", \"w\") as f:\n",
        "    f.write(codigo)\n"
      ]
    },
    {
      "cell_type": "code",
      "execution_count": null,
      "metadata": {
        "id": "ib_szt9gpXkB"
      },
      "outputs": [],
      "source": [
        "%cd /content/{repo_name}\n",
        "!git add .\n",
        "!git commit -m \"Adiciona script de análise de incerteza com faixa ajustada\"\n",
        "!git push origin main  # troque 'main' por 'master' se necessário\n"
      ]
    }
  ],
  "metadata": {
    "colab": {
      "provenance": [],
      "authorship_tag": "ABX9TyOU9gw9IhqCU6g9HD8BE7v4",
      "include_colab_link": true
    },
    "kernelspec": {
      "display_name": "Python 3",
      "name": "python3"
    },
    "language_info": {
      "name": "python"
    }
  },
  "nbformat": 4,
  "nbformat_minor": 0
}